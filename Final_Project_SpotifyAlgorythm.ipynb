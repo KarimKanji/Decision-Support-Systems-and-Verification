{
 "cells": [
  {
   "cell_type": "markdown",
   "id": "8b1f7401-ce7b-4ec8-82b5-f7e5ba62596b",
   "metadata": {},
   "source": [
    "# <u>Beslutstödssystem och verifikation - Kursprojekt</u>\n",
    "\n",
    "## Spotify rekommendationssystem \n",
    "### Karim Kanji & Sebastian Fallström\n",
    "### 09.10.20230, IA-20\n",
    "\n",
    "____________________________________________________________"
   ]
  },
  {
   "cell_type": "code",
   "execution_count": 1,
   "id": "358acd05-629b-464e-9eb8-7af6a78fd597",
   "metadata": {},
   "outputs": [
    {
     "data": {
      "text/plain": [
       "dict_keys(['info', 'playlists'])"
      ]
     },
     "execution_count": 1,
     "metadata": {},
     "output_type": "execute_result"
    }
   ],
   "source": [
    "import json\n",
    "import pandas as pd\n",
    "\n",
    "# Ladda in JSON data, obs! endast datan från playlist 0-999 för att minska minnesanvändning\n",
    "with open(\"mpd.slice.0-999.json\", 'r') as file:\n",
    "    data = json.load(file)\n",
    "\n",
    "\n",
    "data_keys = data.keys()\n",
    "data_keys"
   ]
  },
  {
   "cell_type": "code",
   "execution_count": 2,
   "id": "ab9081fc-9400-4143-ae31-d2f71c177f00",
   "metadata": {},
   "outputs": [
    {
     "data": {
      "text/plain": [
       "{'generated_on': '2017-12-03 08:41:42.057563',\n",
       " 'slice': '0-999',\n",
       " 'version': 'v1'}"
      ]
     },
     "execution_count": 2,
     "metadata": {},
     "output_type": "execute_result"
    }
   ],
   "source": [
    "# Separera på datasettet, info och playlist skillt\n",
    "info_data = data['info']\n",
    "info_data"
   ]
  },
  {
   "cell_type": "code",
   "execution_count": 3,
   "id": "281e3d72-a5a0-478c-bff0-db78eea2b338",
   "metadata": {},
   "outputs": [
    {
     "data": {
      "text/html": [
       "<div>\n",
       "<style scoped>\n",
       "    .dataframe tbody tr th:only-of-type {\n",
       "        vertical-align: middle;\n",
       "    }\n",
       "\n",
       "    .dataframe tbody tr th {\n",
       "        vertical-align: top;\n",
       "    }\n",
       "\n",
       "    .dataframe thead th {\n",
       "        text-align: right;\n",
       "    }\n",
       "</style>\n",
       "<table border=\"1\" class=\"dataframe\">\n",
       "  <thead>\n",
       "    <tr style=\"text-align: right;\">\n",
       "      <th></th>\n",
       "      <th>name</th>\n",
       "      <th>collaborative</th>\n",
       "      <th>pid</th>\n",
       "      <th>modified_at</th>\n",
       "      <th>num_tracks</th>\n",
       "      <th>num_albums</th>\n",
       "      <th>num_followers</th>\n",
       "      <th>tracks</th>\n",
       "      <th>num_edits</th>\n",
       "      <th>duration_ms</th>\n",
       "      <th>num_artists</th>\n",
       "      <th>description</th>\n",
       "    </tr>\n",
       "  </thead>\n",
       "  <tbody>\n",
       "    <tr>\n",
       "      <th>0</th>\n",
       "      <td>Throwbacks</td>\n",
       "      <td>false</td>\n",
       "      <td>0</td>\n",
       "      <td>1493424000</td>\n",
       "      <td>52</td>\n",
       "      <td>47</td>\n",
       "      <td>1</td>\n",
       "      <td>[{'pos': 0, 'artist_name': 'Missy Elliott', 't...</td>\n",
       "      <td>6</td>\n",
       "      <td>11532414</td>\n",
       "      <td>37</td>\n",
       "      <td>NaN</td>\n",
       "    </tr>\n",
       "    <tr>\n",
       "      <th>1</th>\n",
       "      <td>Awesome Playlist</td>\n",
       "      <td>false</td>\n",
       "      <td>1</td>\n",
       "      <td>1506556800</td>\n",
       "      <td>39</td>\n",
       "      <td>23</td>\n",
       "      <td>1</td>\n",
       "      <td>[{'pos': 0, 'artist_name': 'Survivor', 'track_...</td>\n",
       "      <td>5</td>\n",
       "      <td>11656470</td>\n",
       "      <td>21</td>\n",
       "      <td>NaN</td>\n",
       "    </tr>\n",
       "    <tr>\n",
       "      <th>2</th>\n",
       "      <td>korean</td>\n",
       "      <td>false</td>\n",
       "      <td>2</td>\n",
       "      <td>1505692800</td>\n",
       "      <td>64</td>\n",
       "      <td>51</td>\n",
       "      <td>1</td>\n",
       "      <td>[{'pos': 0, 'artist_name': 'Hoody', 'track_uri...</td>\n",
       "      <td>18</td>\n",
       "      <td>14039958</td>\n",
       "      <td>31</td>\n",
       "      <td>NaN</td>\n",
       "    </tr>\n",
       "    <tr>\n",
       "      <th>3</th>\n",
       "      <td>mat</td>\n",
       "      <td>false</td>\n",
       "      <td>3</td>\n",
       "      <td>1501027200</td>\n",
       "      <td>126</td>\n",
       "      <td>107</td>\n",
       "      <td>1</td>\n",
       "      <td>[{'pos': 0, 'artist_name': 'Camille Saint-Saën...</td>\n",
       "      <td>4</td>\n",
       "      <td>28926058</td>\n",
       "      <td>86</td>\n",
       "      <td>NaN</td>\n",
       "    </tr>\n",
       "    <tr>\n",
       "      <th>4</th>\n",
       "      <td>90s</td>\n",
       "      <td>false</td>\n",
       "      <td>4</td>\n",
       "      <td>1401667200</td>\n",
       "      <td>17</td>\n",
       "      <td>16</td>\n",
       "      <td>2</td>\n",
       "      <td>[{'pos': 0, 'artist_name': 'The Smashing Pumpk...</td>\n",
       "      <td>7</td>\n",
       "      <td>4335282</td>\n",
       "      <td>16</td>\n",
       "      <td>NaN</td>\n",
       "    </tr>\n",
       "  </tbody>\n",
       "</table>\n",
       "</div>"
      ],
      "text/plain": [
       "               name collaborative  pid  modified_at  num_tracks  num_albums  \\\n",
       "0        Throwbacks         false    0   1493424000          52          47   \n",
       "1  Awesome Playlist         false    1   1506556800          39          23   \n",
       "2           korean          false    2   1505692800          64          51   \n",
       "3               mat         false    3   1501027200         126         107   \n",
       "4               90s         false    4   1401667200          17          16   \n",
       "\n",
       "   num_followers                                             tracks  \\\n",
       "0              1  [{'pos': 0, 'artist_name': 'Missy Elliott', 't...   \n",
       "1              1  [{'pos': 0, 'artist_name': 'Survivor', 'track_...   \n",
       "2              1  [{'pos': 0, 'artist_name': 'Hoody', 'track_uri...   \n",
       "3              1  [{'pos': 0, 'artist_name': 'Camille Saint-Saën...   \n",
       "4              2  [{'pos': 0, 'artist_name': 'The Smashing Pumpk...   \n",
       "\n",
       "   num_edits  duration_ms  num_artists description  \n",
       "0          6     11532414           37         NaN  \n",
       "1          5     11656470           21         NaN  \n",
       "2         18     14039958           31         NaN  \n",
       "3          4     28926058           86         NaN  \n",
       "4          7      4335282           16         NaN  "
      ]
     },
     "execution_count": 3,
     "metadata": {},
     "output_type": "execute_result"
    }
   ],
   "source": [
    "# Separera på datasettet, info och playlist skillt\n",
    "playlists_data = data['playlists']\n",
    "\n",
    "# Konvertera till en pandas dataframe för att göra datan lättare att handskas med\n",
    "playlists_df = pd.DataFrame(playlists_data)\n",
    "\n",
    "# Visa första raderna av datan med head()\n",
    "playlists_df.head()"
   ]
  },
  {
   "cell_type": "markdown",
   "id": "6183a999-b703-4cb3-a10f-9138e43c4437",
   "metadata": {},
   "source": [
    "## Uppgift 1 - EDA\n",
    "__________________"
   ]
  },
  {
   "cell_type": "code",
   "execution_count": 4,
   "id": "9132c7d3-f3db-445b-8e98-ac5edf85d005",
   "metadata": {},
   "outputs": [
    {
     "data": {
      "text/html": [
       "<div>\n",
       "<style scoped>\n",
       "    .dataframe tbody tr th:only-of-type {\n",
       "        vertical-align: middle;\n",
       "    }\n",
       "\n",
       "    .dataframe tbody tr th {\n",
       "        vertical-align: top;\n",
       "    }\n",
       "\n",
       "    .dataframe thead th {\n",
       "        text-align: right;\n",
       "    }\n",
       "</style>\n",
       "<table border=\"1\" class=\"dataframe\">\n",
       "  <thead>\n",
       "    <tr style=\"text-align: right;\">\n",
       "      <th></th>\n",
       "      <th>name</th>\n",
       "      <th>avg_song_length_ms</th>\n",
       "    </tr>\n",
       "  </thead>\n",
       "  <tbody>\n",
       "    <tr>\n",
       "      <th>0</th>\n",
       "      <td>Throwbacks</td>\n",
       "      <td>221777.192308</td>\n",
       "    </tr>\n",
       "    <tr>\n",
       "      <th>1</th>\n",
       "      <td>Awesome Playlist</td>\n",
       "      <td>298883.846154</td>\n",
       "    </tr>\n",
       "    <tr>\n",
       "      <th>2</th>\n",
       "      <td>korean</td>\n",
       "      <td>219374.343750</td>\n",
       "    </tr>\n",
       "    <tr>\n",
       "      <th>3</th>\n",
       "      <td>mat</td>\n",
       "      <td>229571.888889</td>\n",
       "    </tr>\n",
       "    <tr>\n",
       "      <th>4</th>\n",
       "      <td>90s</td>\n",
       "      <td>255016.588235</td>\n",
       "    </tr>\n",
       "  </tbody>\n",
       "</table>\n",
       "</div>"
      ],
      "text/plain": [
       "               name  avg_song_length_ms\n",
       "0        Throwbacks       221777.192308\n",
       "1  Awesome Playlist       298883.846154\n",
       "2           korean        219374.343750\n",
       "3               mat       229571.888889\n",
       "4               90s       255016.588235"
      ]
     },
     "execution_count": 4,
     "metadata": {},
     "output_type": "execute_result"
    }
   ],
   "source": [
    "# För skojjs skull, kolla medellängden på sångerna\n",
    "playlists_df['avg_song_length_ms'] = playlists_df['duration_ms'] / playlists_df['num_tracks']\n",
    "playlists_df[['name', 'avg_song_length_ms']].head()\n",
    "# Obs 221777.192308 ms ~ 221 sekunder"
   ]
  },
  {
   "cell_type": "code",
   "execution_count": 5,
   "id": "221f6175-2f37-4b1f-8161-3590809e600b",
   "metadata": {},
   "outputs": [
    {
     "data": {
      "image/png": "[encoded data removed]",
      "text/plain": [
       "<Figure size 720x432 with 1 Axes>"
      ]
     },
     "metadata": {
      "needs_background": "light"
     },
     "output_type": "display_data"
    }
   ],
   "source": [
    "import matplotlib.pyplot as plt\n",
    "\n",
    "# Plottar medellängden av sånger\n",
    "plt.figure(figsize=(10, 6))\n",
    "plt.hist(playlists_df['avg_song_length_ms'] / 1000, bins=50, color='skyblue', edgecolor='black') \n",
    "plt.title('Histogram of Average Song Lengths in Playlists')\n",
    "plt.xlabel('Average Song Length (seconds)')\n",
    "plt.ylabel('Number of Playlists')\n",
    "\n",
    "plt.grid(True, which='both', linestyle='--', linewidth=0.5)\n",
    "plt.tight_layout()\n",
    "plt.show()\n"
   ]
  },
  {
   "cell_type": "markdown",
   "id": "76483f35-15cd-49f5-8f42-a7e62687a3d4",
   "metadata": {},
   "source": [
    "## Uppgift 1 - Content-based filtering\n",
    "____________"
   ]
  },
  {
   "cell_type": "code",
   "execution_count": 6,
   "id": "3fb8cdcb-c37f-40b9-9868-34031e90c143",
   "metadata": {},
   "outputs": [
    {
     "data": {
      "text/html": [
       "<div>\n",
       "<style scoped>\n",
       "    .dataframe tbody tr th:only-of-type {\n",
       "        vertical-align: middle;\n",
       "    }\n",
       "\n",
       "    .dataframe tbody tr th {\n",
       "        vertical-align: top;\n",
       "    }\n",
       "\n",
       "    .dataframe thead th {\n",
       "        text-align: right;\n",
       "    }\n",
       "</style>\n",
       "<table border=\"1\" class=\"dataframe\">\n",
       "  <thead>\n",
       "    <tr style=\"text-align: right;\">\n",
       "      <th></th>\n",
       "      <th>name</th>\n",
       "      <th>all_artists</th>\n",
       "    </tr>\n",
       "  </thead>\n",
       "  <tbody>\n",
       "    <tr>\n",
       "      <th>0</th>\n",
       "      <td>Throwbacks</td>\n",
       "      <td>Missy Elliott Britney Spears Beyoncé Justin Ti...</td>\n",
       "    </tr>\n",
       "    <tr>\n",
       "      <th>1</th>\n",
       "      <td>Awesome Playlist</td>\n",
       "      <td>Survivor Daniel Tidwell Daniel Tidwell Daniel ...</td>\n",
       "    </tr>\n",
       "    <tr>\n",
       "      <th>2</th>\n",
       "      <td>korean</td>\n",
       "      <td>Hoody Loco Park Kyung Park Kyung BTS Lovelyz L...</td>\n",
       "    </tr>\n",
       "    <tr>\n",
       "      <th>3</th>\n",
       "      <td>mat</td>\n",
       "      <td>Camille Saint-Saëns Camille Saint-Saëns No Vac...</td>\n",
       "    </tr>\n",
       "    <tr>\n",
       "      <th>4</th>\n",
       "      <td>90s</td>\n",
       "      <td>The Smashing Pumpkins Oasis Aerosmith Natalie ...</td>\n",
       "    </tr>\n",
       "  </tbody>\n",
       "</table>\n",
       "</div>"
      ],
      "text/plain": [
       "               name                                        all_artists\n",
       "0        Throwbacks  Missy Elliott Britney Spears Beyoncé Justin Ti...\n",
       "1  Awesome Playlist  Survivor Daniel Tidwell Daniel Tidwell Daniel ...\n",
       "2           korean   Hoody Loco Park Kyung Park Kyung BTS Lovelyz L...\n",
       "3               mat  Camille Saint-Saëns Camille Saint-Saëns No Vac...\n",
       "4               90s  The Smashing Pumpkins Oasis Aerosmith Natalie ..."
      ]
     },
     "execution_count": 6,
     "metadata": {},
     "output_type": "execute_result"
    }
   ],
   "source": [
    "# Konkatenerar alla artist namn för varje spellista -> Resultatet är en ny dataframe med \"playlist namn\" och alla artister\n",
    "playlists_df['all_artists'] = playlists_df['tracks'].apply(lambda x: ' '.join([track['artist_name'] for track in x]))\n",
    "playlists_df[['name', 'all_artists']].head()\n"
   ]
  },
  {
   "cell_type": "code",
   "execution_count": 7,
   "id": "75e4303e-539b-4d0d-87ff-015c20d4422e",
   "metadata": {},
   "outputs": [
    {
     "data": {
      "text/plain": [
       "(1000, 5000)"
      ]
     },
     "execution_count": 7,
     "metadata": {},
     "output_type": "execute_result"
    }
   ],
   "source": [
    "from sklearn.feature_extraction.text import TfidfVectorizer\n",
    "\n",
    "# Startta TF-IDF vektoriseraren med stop words english för att ta bort \"the\", \"and\", \"is\" etc..., max features för att minska matrisen\n",
    "tfidf_vectorizer = TfidfVectorizer(stop_words='english', max_features=5000)\n",
    "\n",
    "# Skapar själva matrisen\n",
    "tfidf_matrix = tfidf_vectorizer.fit_transform(playlists_df['all_artists'])\n",
    "\n",
    "tfidf_matrix.shape\n",
    "# print(tfidf_matrix)\n"
   ]
  },
  {
   "cell_type": "markdown",
   "id": "2c09752a-bef0-4e0a-97d8-43d73973f37d",
   "metadata": {},
   "source": [
    "#### Här är de 10 mest liknande spellistorna till \"Throwbacks\" baserat på artistinnehållet:"
   ]
  },
  {
   "cell_type": "code",
   "execution_count": 8,
   "id": "4302059b-5b65-4862-bde1-b340e4e4f27d",
   "metadata": {},
   "outputs": [
    {
     "data": {
      "text/html": [
       "<div>\n",
       "<style scoped>\n",
       "    .dataframe tbody tr th:only-of-type {\n",
       "        vertical-align: middle;\n",
       "    }\n",
       "\n",
       "    .dataframe tbody tr th {\n",
       "        vertical-align: top;\n",
       "    }\n",
       "\n",
       "    .dataframe thead th {\n",
       "        text-align: right;\n",
       "    }\n",
       "</style>\n",
       "<table border=\"1\" class=\"dataframe\">\n",
       "  <thead>\n",
       "    <tr style=\"text-align: right;\">\n",
       "      <th></th>\n",
       "      <th>name</th>\n",
       "      <th>all_artists</th>\n",
       "    </tr>\n",
       "  </thead>\n",
       "  <tbody>\n",
       "    <tr>\n",
       "      <th>359</th>\n",
       "      <td>old songs</td>\n",
       "      <td>Akon Taio Cruz Kelis Vanessa Carlton Busta Rhy...</td>\n",
       "    </tr>\n",
       "    <tr>\n",
       "      <th>717</th>\n",
       "      <td>Throwbacks</td>\n",
       "      <td>Kardinal Offishall Ray J Jesse McCartney Metro...</td>\n",
       "    </tr>\n",
       "    <tr>\n",
       "      <th>908</th>\n",
       "      <td>old but good</td>\n",
       "      <td>Chris Brown Trey Songz Jason Derulo fun. B.o.B...</td>\n",
       "    </tr>\n",
       "    <tr>\n",
       "      <th>128</th>\n",
       "      <td>bae</td>\n",
       "      <td>Meghan Trainor Jesse McCartney Kenny Chesney N...</td>\n",
       "    </tr>\n",
       "    <tr>\n",
       "      <th>380</th>\n",
       "      <td>Throwbacks</td>\n",
       "      <td>Katy Perry Britney Spears Taio Cruz Fergie Fer...</td>\n",
       "    </tr>\n",
       "    <tr>\n",
       "      <th>262</th>\n",
       "      <td>throwback</td>\n",
       "      <td>Avril Lavigne Fountains Of Wayne Jonas Brother...</td>\n",
       "    </tr>\n",
       "    <tr>\n",
       "      <th>747</th>\n",
       "      <td>2000s</td>\n",
       "      <td>Snow Patrol Plain White T's Owl City Maroon 5 ...</td>\n",
       "    </tr>\n",
       "    <tr>\n",
       "      <th>944</th>\n",
       "      <td>hoe anthems</td>\n",
       "      <td>Beyoncé Beyoncé Cassie The Pussycat Dolls Keli...</td>\n",
       "    </tr>\n",
       "    <tr>\n",
       "      <th>38</th>\n",
       "      <td>tb</td>\n",
       "      <td>Sean Kingston Jason Derulo Iyaz Sean Kingston ...</td>\n",
       "    </tr>\n",
       "    <tr>\n",
       "      <th>779</th>\n",
       "      <td>00s</td>\n",
       "      <td>Shaggy Destiny's Child Michelle Branch Alicia ...</td>\n",
       "    </tr>\n",
       "  </tbody>\n",
       "</table>\n",
       "</div>"
      ],
      "text/plain": [
       "             name                                        all_artists\n",
       "359    old songs   Akon Taio Cruz Kelis Vanessa Carlton Busta Rhy...\n",
       "717    Throwbacks  Kardinal Offishall Ray J Jesse McCartney Metro...\n",
       "908  old but good  Chris Brown Trey Songz Jason Derulo fun. B.o.B...\n",
       "128           bae  Meghan Trainor Jesse McCartney Kenny Chesney N...\n",
       "380   Throwbacks   Katy Perry Britney Spears Taio Cruz Fergie Fer...\n",
       "262     throwback  Avril Lavigne Fountains Of Wayne Jonas Brother...\n",
       "747         2000s  Snow Patrol Plain White T's Owl City Maroon 5 ...\n",
       "944   hoe anthems  Beyoncé Beyoncé Cassie The Pussycat Dolls Keli...\n",
       "38             tb  Sean Kingston Jason Derulo Iyaz Sean Kingston ...\n",
       "779           00s  Shaggy Destiny's Child Michelle Branch Alicia ..."
      ]
     },
     "execution_count": 8,
     "metadata": {},
     "output_type": "execute_result"
    }
   ],
   "source": [
    "from sklearn.metrics.pairwise import cosine_similarity\n",
    "\n",
    "# Target playlist i detta fall är playlist \"0\" som heter Throwbacks\n",
    "target_playlist_index = 0\n",
    "cosine_similarities = cosine_similarity(tfidf_matrix[target_playlist_index], tfidf_matrix).flatten()\n",
    "\n",
    "# Top 10 \n",
    "similar_playlists_indices = cosine_similarities.argsort()[-2:-12:-1]  # -2 för att inte ta med egna playlisten\n",
    "similar_playlists = playlists_df.iloc[similar_playlists_indices]\n",
    "similar_playlists[['name', 'all_artists']]\n",
    "\n",
    "\n",
    "# Svaret verkkar överänsstämma med vett och förnuft, \"old songs\" andra \"Throwbacks\" är alla så kallade \"Throback\" listor\n",
    "# vilket skulle tyda på att programmet rekommenderar vettigt"
   ]
  },
  {
   "cell_type": "markdown",
   "id": "b9949609-bf65-44ff-8423-4dd24ceb8bfa",
   "metadata": {},
   "source": [
    "## Uppgift 1 - Collaborative filtering\n",
    "_____________"
   ]
  },
  {
   "cell_type": "code",
   "execution_count": 9,
   "id": "459b3a10-0680-4da2-88c9-8d0041b74b7e",
   "metadata": {},
   "outputs": [
    {
     "data": {
      "text/html": [
       "<div>\n",
       "<style scoped>\n",
       "    .dataframe tbody tr th:only-of-type {\n",
       "        vertical-align: middle;\n",
       "    }\n",
       "\n",
       "    .dataframe tbody tr th {\n",
       "        vertical-align: top;\n",
       "    }\n",
       "\n",
       "    .dataframe thead th {\n",
       "        text-align: right;\n",
       "    }\n",
       "</style>\n",
       "<table border=\"1\" class=\"dataframe\">\n",
       "  <thead>\n",
       "    <tr style=\"text-align: right;\">\n",
       "      <th></th>\n",
       "      <th>pid</th>\n",
       "      <th>artist_name</th>\n",
       "      <th>freq</th>\n",
       "    </tr>\n",
       "  </thead>\n",
       "  <tbody>\n",
       "    <tr>\n",
       "      <th>0</th>\n",
       "      <td>0</td>\n",
       "      <td>Avril Lavigne</td>\n",
       "      <td>2</td>\n",
       "    </tr>\n",
       "    <tr>\n",
       "      <th>1</th>\n",
       "      <td>0</td>\n",
       "      <td>Beyoncé</td>\n",
       "      <td>2</td>\n",
       "    </tr>\n",
       "    <tr>\n",
       "      <th>2</th>\n",
       "      <td>0</td>\n",
       "      <td>Bowling For Soup</td>\n",
       "      <td>1</td>\n",
       "    </tr>\n",
       "    <tr>\n",
       "      <th>3</th>\n",
       "      <td>0</td>\n",
       "      <td>Boys Like Girls</td>\n",
       "      <td>2</td>\n",
       "    </tr>\n",
       "    <tr>\n",
       "      <th>4</th>\n",
       "      <td>0</td>\n",
       "      <td>Britney Spears</td>\n",
       "      <td>1</td>\n",
       "    </tr>\n",
       "  </tbody>\n",
       "</table>\n",
       "</div>"
      ],
      "text/plain": [
       "   pid       artist_name  freq\n",
       "0    0     Avril Lavigne     2\n",
       "1    0           Beyoncé     2\n",
       "2    0  Bowling For Soup     1\n",
       "3    0   Boys Like Girls     2\n",
       "4    0    Britney Spears     1"
      ]
     },
     "execution_count": 9,
     "metadata": {},
     "output_type": "execute_result"
    }
   ],
   "source": [
    "# Ta ut \"track\" (sång) data samt PID (playlist ID) och associera varje sång med respektive PID\n",
    "tracks_data = [{'pid': playlist['pid'], **track} for playlist in playlists_data for track in playlist['tracks']]\n",
    "tracks_df = pd.DataFrame(tracks_data)\n",
    "\n",
    "# Frekvenstabell för kombinationer av artister och spellistor\n",
    "freq_table = tracks_df.groupby(['pid', 'artist_name']).size().reset_index(name='freq')\n",
    "freq_table.head()\n"
   ]
  },
  {
   "cell_type": "code",
   "execution_count": 10,
   "id": "e094eef4-0332-4b3e-84ea-089b0930636c",
   "metadata": {},
   "outputs": [
    {
     "data": {
      "text/plain": [
       "['Rihanna', 'Gwen Stefani', 'Maroon 5', 'Alicia Keys', 'Neil Diamond']"
      ]
     },
     "execution_count": 10,
     "metadata": {},
     "output_type": "execute_result"
    }
   ],
   "source": [
    "# Vi tar en såkallad subset för att minska mängden spellistor programmet kör egenom\n",
    "# obs! Detta skapar ett mindre pålitligt resultat men resulterar i snabbare program körning\n",
    "subset_playlists_data = playlists_data[:100]\n",
    "\n",
    "# Samma som i tidiager block bara att för subsetten\n",
    "subset_tracks_data = [{'pid': playlist['pid'], **track} for playlist in subset_playlists_data for track in playlist['tracks']]\n",
    "subset_tracks_df = pd.DataFrame(subset_tracks_data)\n",
    "\n",
    "\n",
    "subset_freq_table = subset_tracks_df.groupby(['pid', 'artist_name']).size().reset_index(name='freq')\n",
    "\n",
    "# Användar-item matris\n",
    "subset_user_item_matrix = subset_freq_table.pivot(index='pid', columns='artist_name', values='freq').fillna(0)\n",
    "\n",
    "# Likhets matris på basis av hur lik en artist är jämfört med alla andra\n",
    "subset_item_similarity = cosine_similarity(subset_user_item_matrix.T)\n",
    "subset_item_similarity_df = pd.DataFrame(subset_item_similarity, index=subset_user_item_matrix.columns, columns=subset_user_item_matrix.columns)\n",
    "\n",
    "# Funktionen för att få själva rekommendationen (num_recommendations ändrar mängden rekommendationer)\n",
    "def get_subset_artist_recommendations(pid, num_recommendations=5):\n",
    "\n",
    "    # Få artister ut ur playlisten\n",
    "    artists_in_playlist = subset_user_item_matrix.loc[pid]\n",
    "    artists_in_playlist = artists_in_playlist[artists_in_playlist > 0].index.tolist()\n",
    "    \n",
    "    # Beräkna en vägd summa av likhets \"score\" för alla artister i spellistan\n",
    "    sim_scores = subset_item_similarity_df[artists_in_playlist].mean(axis=1)\n",
    "    \n",
    "    # Sortera artister och filtrera ut artister som redan befinner sig i spellistan\n",
    "    recommended_artists = sim_scores.sort_values(ascending=False).index.tolist()\n",
    "    recommended_artists = [artist for artist in recommended_artists if artist not in artists_in_playlist]\n",
    "    \n",
    "    return recommended_artists[:num_recommendations]\n",
    "\n",
    "# Testa funktionen, ändra pid- för att ändra spellistan som resultatet baserar sig på.\n",
    "# Du kan kolla mpd.slice filen för att kolla fram olika spellistor.\n",
    "# EXEMPEL: pid-0 = \"Throwbacks\", pid-88 = \"KPOP\", pid-61 = \"Country\"\n",
    "# Resultaten verkar pålitliga och bra på basis av vår analys av olika spellistor\n",
    "subset_recommendations_test = get_subset_artist_recommendations(0)\n",
    "subset_recommendations_test"
   ]
  },
  {
   "cell_type": "markdown",
   "id": "2b830d3b-172b-40f1-b08e-bd837389ed7f",
   "metadata": {},
   "source": [
    "## Uppgift 2 - Hybrid recommendation system\n",
    "________________"
   ]
  },
  {
   "cell_type": "code",
   "execution_count": 25,
   "id": "2ce7f76d-435b-45ee-9a5d-c78e770a92a4",
   "metadata": {},
   "outputs": [
    {
     "ename": "NameError",
     "evalue": "name 'subset_user_item_matrix' is not defined",
     "output_type": "error",
     "traceback": [
      "\u001b[0;31m---------------------------------------------------------------------------\u001b[0m",
      "\u001b[0;31mNameError\u001b[0m                                 Traceback (most recent call last)",
      "Input \u001b[0;32mIn [25]\u001b[0m, in \u001b[0;36m<module>\u001b[0;34m\u001b[0m\n\u001b[1;32m     29\u001b[0m     \u001b[38;5;28;01mreturn\u001b[39;00m recommended_artists[:num_recommendations]\n\u001b[1;32m     31\u001b[0m \u001b[38;5;66;03m# Testa funktionen, ändra pid- för att ändra spellistan som resultatet baserar sig på.\u001b[39;00m\n\u001b[1;32m     32\u001b[0m \u001b[38;5;66;03m# Du kan kolla mpd.slice filen för att kolla fram olika spellistor.\u001b[39;00m\n\u001b[1;32m     33\u001b[0m \u001b[38;5;66;03m# EXEMPEL: pid-0 = \"Throwbacks\", pid-88 = \"KPOP\", pid-61 = \"Country\"\u001b[39;00m\n\u001b[1;32m     34\u001b[0m \u001b[38;5;66;03m# Resultaten verkar pålitliga och bra på basis av vår analys av olika spellistor\u001b[39;00m\n\u001b[0;32m---> 35\u001b[0m hybrid_recommendations \u001b[38;5;241m=\u001b[39m \u001b[43mhybrid_recommendation\u001b[49m\u001b[43m(\u001b[49m\u001b[38;5;241;43m88\u001b[39;49m\u001b[43m)\u001b[49m\n\u001b[1;32m     36\u001b[0m hybrid_recommendations\n",
      "Input \u001b[0;32mIn [25]\u001b[0m, in \u001b[0;36mhybrid_recommendation\u001b[0;34m(pid, num_recommendations)\u001b[0m\n\u001b[1;32m     19\u001b[0m all_recommendations \u001b[38;5;241m=\u001b[39m []\n\u001b[1;32m     20\u001b[0m \u001b[38;5;28;01mfor\u001b[39;00m index \u001b[38;5;129;01min\u001b[39;00m similar_playlists_indices:\n\u001b[1;32m     21\u001b[0m     \u001b[38;5;66;03m# Se till att spellistans ID är i subsetten\u001b[39;00m\n\u001b[0;32m---> 22\u001b[0m     \u001b[38;5;28;01mif\u001b[39;00m index \u001b[38;5;129;01min\u001b[39;00m \u001b[43msubset_user_item_matrix\u001b[49m\u001b[38;5;241m.\u001b[39mindex:\n\u001b[1;32m     23\u001b[0m         recommendations \u001b[38;5;241m=\u001b[39m get_subset_artist_recommendations(index, num_recommendations)\n\u001b[1;32m     24\u001b[0m         all_recommendations\u001b[38;5;241m.\u001b[39mextend(recommendations)\n",
      "\u001b[0;31mNameError\u001b[0m: name 'subset_user_item_matrix' is not defined"
     ]
    }
   ],
   "source": [
    "def hybrid_recommendation(pid, num_recommendations=5):\n",
    "\n",
    "    # 1. Content-based rekommendation\n",
    "    cosine_similarities = cosine_similarity(tfidf_matrix[pid], tfidf_matrix).flatten()\n",
    "    similar_playlists_indices = cosine_similarities.argsort()[-2:-12:-1] \n",
    "\n",
    "    # 2. Collaborative filtering rekommendation\n",
    "    all_recommendations = []\n",
    "    for index in similar_playlists_indices:\n",
    "        # Se till att spellistans ID är i subsetten\n",
    "        if index in subset_user_item_matrix.index:\n",
    "            recommendations = get_subset_artist_recommendations(index, num_recommendations)\n",
    "            all_recommendations.extend(recommendations)\n",
    "\n",
    "    # 3. Sammanställ artist rekommendationer\n",
    "    recommended_artists = pd.Series(all_recommendations).value_counts().index.tolist()\n",
    "\n",
    "    return recommended_artists[:num_recommendations]\n",
    "\n",
    "# Testa funktionen, ändra pid- för att ändra spellistan som resultatet baserar sig på.\n",
    "# Du kan kolla mpd.slice filen för att kolla fram olika spellistor.\n",
    "# EXEMPEL: pid-0 = \"Throwbacks\", pid-88 = \"KPOP\", pid-61 = \"Country\"\n",
    "# Resultaten verkar pålitliga och bra på basis av vår analys av olika spellistor\n",
    "hybrid_recommendations = hybrid_recommendation(88)\n",
    "hybrid_recommendations"
   ]
  },
  {
   "cell_type": "markdown",
   "id": "24caef37-4fd8-4c69-9c78-efe045f54e6e",
   "metadata": {},
   "source": [
    "## Källor\n",
    "____________________"
   ]
  },
  {
   "cell_type": "markdown",
   "id": "67d6df85-5b28-469f-9a04-c9e5f7c6a57b",
   "metadata": {},
   "source": [
    "OpenAI. (2023). Code Generated by ChatGPT (3.5/4.0) [Code]. \n",
    "Notis. ChatGPT användes i arbetet för att speglas med och producera kod som resulterade i ett förbättrat\n",
    "program vilket inte skulle ha varit möjligt utan AI stöd. \n"
   ]
  }
 ],
 "metadata": {
  "kernelspec": {
   "display_name": "Python 3 (ipykernel)",
   "language": "python",
   "name": "python3"
  },
  "language_info": {
   "codemirror_mode": {
    "name": "ipython",
    "version": 3
   },
   "file_extension": ".py",
   "mimetype": "text/x-python",
   "name": "python",
   "nbconvert_exporter": "python",
   "pygments_lexer": "ipython3",
   "version": "3.9.10"
  }
 },
 "nbformat": 4,
 "nbformat_minor": 5
}
